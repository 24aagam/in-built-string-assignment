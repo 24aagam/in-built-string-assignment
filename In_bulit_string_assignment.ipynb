{
  "nbformat": 4,
  "nbformat_minor": 0,
  "metadata": {
    "colab": {
      "provenance": []
    },
    "kernelspec": {
      "name": "python3",
      "display_name": "Python 3"
    },
    "language_info": {
      "name": "python"
    }
  },
  "cells": [
    {
      "cell_type": "markdown",
      "source": [
        "# 1. What is the purpose of the len() function in Python, and how can it be used with strings?\n",
        "\n",
        "  **Ans.:** The purpose of the len() function in Python is to know the length of a given data structure.\n",
        "    It provides the number of characters (including spaces,\n",
        "              punctuation, and special symbols) present within the data structure. Use of len() function\n",
        "              with strings:\n"
      ],
      "metadata": {
        "id": "OGrAMgP_YIrR"
      }
    },
    {
      "cell_type": "code",
      "source": [
        "my_string = \"Hello, World\"\n",
        "print(f\"The length of the string is: {len(my_string)}\")"
      ],
      "metadata": {
        "colab": {
          "base_uri": "https://localhost:8080/"
        },
        "id": "c5fM_m7aepri",
        "outputId": "18a09082-a255-460b-941e-2538988cd01d"
      },
      "execution_count": 1,
      "outputs": [
        {
          "output_type": "stream",
          "name": "stdout",
          "text": [
            "The length of the string is: 12\n"
          ]
        }
      ]
    },
    {
      "cell_type": "markdown",
      "source": [
        "# 2. How can you concatenate two or more strings in Python, and can you provide an example of string concatenation?\n",
        "\n",
        "  **Ans.:** You can concatenate two or more strings in Python using “+”\n",
        "addition operator. Example of string concatenation:\n"
      ],
      "metadata": {
        "id": "xpAJI556ewVo"
      }
    },
    {
      "cell_type": "code",
      "source": [
        "first_name = \"Aagam\"\n",
        "middle_name = \"S\"\n",
        "last_name = \"Shah\"\n",
        "\n",
        "first_name + \" \" + middle_name + \" \" + last_name"
      ],
      "metadata": {
        "colab": {
          "base_uri": "https://localhost:8080/",
          "height": 36
        },
        "id": "uZB8zx6RgFvK",
        "outputId": "84f96ef0-2ac8-4ec5-b9f7-f9e4e8733db2"
      },
      "execution_count": 2,
      "outputs": [
        {
          "output_type": "execute_result",
          "data": {
            "text/plain": [
              "'Aagam S Shah'"
            ],
            "application/vnd.google.colaboratory.intrinsic+json": {
              "type": "string"
            }
          },
          "metadata": {},
          "execution_count": 2
        }
      ]
    },
    {
      "cell_type": "markdown",
      "source": [
        "# 3. What is string slicing in Python, and how can you extract a portion of a string using this method?\n",
        "\n",
        "**Ans.:** In Python, string slicing is a way to extract particular portion of\n",
        "a string. You can extract a portion of a string using colon between\n",
        "square bracket ([ : ]). Declare a start and end indices to get a desired\n",
        "portion. End index is always excluding. For example,"
      ],
      "metadata": {
        "id": "ja1muUDSgikH"
      }
    },
    {
      "cell_type": "code",
      "source": [
        "string1 = \"I am a good student\"\n",
        "portion = string1[0:6] # 6 is excluding and 5 is including. And it will count spaces too.\n",
        "\n",
        "print(portion)"
      ],
      "metadata": {
        "colab": {
          "base_uri": "https://localhost:8080/"
        },
        "id": "Hn_mlzuWgsy7",
        "outputId": "dd3309db-5601-47d2-ca33-b84cf7953a27"
      },
      "execution_count": 3,
      "outputs": [
        {
          "output_type": "stream",
          "name": "stdout",
          "text": [
            "I am a\n"
          ]
        }
      ]
    },
    {
      "cell_type": "markdown",
      "source": [
        "# 4. How can you change the case of a string in Python, and can you provide examples of both making a string all uppercase and all lowercase?\n",
        "\n",
        "**Ans.:** In Python, you can change the case of a string using in-built\n",
        "string method called upper() for uppercase and lower() for\n",
        "lowercase. Example of uppercase and lowercase:\n"
      ],
      "metadata": {
        "id": "AbwPxw6Ihd8E"
      }
    },
    {
      "cell_type": "code",
      "source": [
        "name = \"Aagam S Shah\"\n",
        "name.lower()"
      ],
      "metadata": {
        "colab": {
          "base_uri": "https://localhost:8080/",
          "height": 36
        },
        "id": "mAUdorSChdEn",
        "outputId": "9c868a51-faa2-4ef0-8543-9010030018d2"
      },
      "execution_count": 4,
      "outputs": [
        {
          "output_type": "execute_result",
          "data": {
            "text/plain": [
              "'aagam s shah'"
            ],
            "application/vnd.google.colaboratory.intrinsic+json": {
              "type": "string"
            }
          },
          "metadata": {},
          "execution_count": 4
        }
      ]
    },
    {
      "cell_type": "code",
      "source": [
        "name.upper()"
      ],
      "metadata": {
        "colab": {
          "base_uri": "https://localhost:8080/",
          "height": 36
        },
        "id": "ccxP-ss0hzvf",
        "outputId": "b4269c88-90af-432c-c8a4-53e5f5ea9898"
      },
      "execution_count": 5,
      "outputs": [
        {
          "output_type": "execute_result",
          "data": {
            "text/plain": [
              "'AAGAM S SHAH'"
            ],
            "application/vnd.google.colaboratory.intrinsic+json": {
              "type": "string"
            }
          },
          "metadata": {},
          "execution_count": 5
        }
      ]
    },
    {
      "cell_type": "markdown",
      "source": [
        "# 5. What does the split () method do in Python, and how can you split a string using a specific delimiter?\n",
        "\n",
        "**Ans.:** In Python, the split() method split the string at the specified\n",
        "separator and returns a list. You can split a string using a specified\n",
        "delimiter:"
      ],
      "metadata": {
        "id": "4HTMPAQjhdsB"
      }
    },
    {
      "cell_type": "code",
      "source": [
        "data = \"Aagam, coding, data science\"\n",
        "data.split(', ')"
      ],
      "metadata": {
        "colab": {
          "base_uri": "https://localhost:8080/"
        },
        "id": "d3Iwuhm_iCvU",
        "outputId": "977cc4e3-9a4f-4cb7-fe06-8db08384fe7d"
      },
      "execution_count": 8,
      "outputs": [
        {
          "output_type": "execute_result",
          "data": {
            "text/plain": [
              "['Aagam', 'coding', 'data science']"
            ]
          },
          "metadata": {},
          "execution_count": 8
        }
      ]
    }
  ]
}